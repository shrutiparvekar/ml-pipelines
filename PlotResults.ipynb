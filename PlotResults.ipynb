{
 "cells": [
  {
   "cell_type": "code",
   "execution_count": null,
   "id": "f154c3e6",
   "metadata": {},
   "outputs": [],
   "source": [
    "import pandas as pd\n",
    "import matplotlib.pyplot as plt"
   ]
  },
  {
   "cell_type": "code",
   "execution_count": null,
   "id": "744a6fae",
   "metadata": {},
   "outputs": [],
   "source": [
    "def latency_p95(filename):\n",
    "    file = pd.read_csv(filename)\n",
    "    p95_latency = file['latency'].quantile(0.95)\n",
    "    return p95_latency"
   ]
  },
  {
   "cell_type": "code",
   "execution_count": null,
   "id": "3c618b0f",
   "metadata": {},
   "outputs": [],
   "source": [
    "def latency_p50(filename):\n",
    "    file = pd.read_csv(filename)\n",
    "    average_latency = file['latency'].mean()\n",
    "    return average_latency"
   ]
  },
  {
   "cell_type": "code",
   "execution_count": null,
   "id": "bc0296b4",
   "metadata": {},
   "outputs": [],
   "source": [
    "def cpu_utilization(filename):\n",
    "    file = pd.read_csv(filename)\n",
    "    average_cpu_utilization = cpu_data['cpu_utilization'].mean()\n",
    "    return average_cpu_utilization"
   ]
  },
  {
   "cell_type": "code",
   "execution_count": null,
   "id": "bf9a1843",
   "metadata": {},
   "outputs": [],
   "source": [
    "def throughput(filename):\n",
    "    file = pd.read_csv(filename)\n",
    "    average_throughput = cpu_data['throughput'].mean()\n",
    "    return average_throughput"
   ]
  },
  {
   "cell_type": "code",
   "execution_count": null,
   "id": "61735225",
   "metadata": {},
   "outputs": [],
   "source": [
    "def plot(request_rate, manual_scaling_results, auto_scaling_results, batching_results, y_axis_label):\n",
    "    plt.plot(request_rate, manual_scaling_results, color='red', label='Manual Scaling')\n",
    "    plt.plot(request_rate, auto_scaling_results, color='blue', label='Auto scaling')\n",
    "    plt.plot(request_rate, batching_results, color='green', label='Batching')\n",
    "\n",
    "    plt.xlabel('Number of requests')\n",
    "    plt.ylabel(y_axis_label)\n",
    "    plt.legend()\n",
    "\n",
    "    plt.show()"
   ]
  },
  {
   "cell_type": "markdown",
   "id": "7830b91a",
   "metadata": {},
   "source": [
    "# Autoscaling experiments"
   ]
  },
  {
   "cell_type": "code",
   "execution_count": null,
   "id": "cf04675c",
   "metadata": {},
   "outputs": [],
   "source": [
    "experiments = [] #contains the request rates\n",
    "avg_latencies_autoscaling, p95_latencies_autoscaling, throughput_avg_autoscaling, cpu_utilization_avg_autoscaling = [], [], [], []\n",
    "for experiment in experiments:\n",
    "    latency_filename = 'latency_autoscaling'+experiment\n",
    "    throughput_filename = 'throughput_autoscaling'+experiment\n",
    "    cpu_utilization = 'cpu_autoscaling'+experiment\n",
    "    \n",
    "    avg_latencies_autoscaling.append(latency_p50(latency_filename))\n",
    "    p95_latencies_autoscaling.append(latency_p95(latency_filename))\n",
    "    throughput_avg_autoscaling.append(throughput(throughput_filename))\n",
    "    cpu_utilization_avg_autoscaling.append(cpu_utilization(cpu_utilization))"
   ]
  },
  {
   "cell_type": "markdown",
   "id": "0e39d053",
   "metadata": {},
   "source": [
    "# Manual Experiments"
   ]
  },
  {
   "cell_type": "code",
   "execution_count": null,
   "id": "e6379381",
   "metadata": {},
   "outputs": [],
   "source": [
    "experiments = []\n",
    "avg_latencies_manual, p95_latencies_manual, throughput_avg_manual, cpu_utilization_avg_manual = [], [], [], []\n",
    "for experiment in experiments:\n",
    "    latency_filename = 'latency_manual'+experiment\n",
    "    throughput_filename = 'throughput_manual'+experiment\n",
    "    cpu_utilization = 'cpu_manual'+experiment\n",
    "    \n",
    "    avg_latencies_manual.append(latency_p50(latency_filename))\n",
    "    p95_latencies_manual.append(latency_p95(latency_filename))\n",
    "    throughput_avg_manual.append(throughput(throughput_filename))\n",
    "    cpu_utilization_avg_manual.append(cpu_utilization(cpu_utilization))"
   ]
  },
  {
   "cell_type": "markdown",
   "id": "7f1be0e5",
   "metadata": {},
   "source": [
    "# Batching Experiments"
   ]
  },
  {
   "cell_type": "code",
   "execution_count": null,
   "id": "540d50dd",
   "metadata": {},
   "outputs": [],
   "source": [
    "experiments = []\n",
    "avg_latencies_batching, p95_latencies_batching, throughput_avg_batching, cpu_utilization_avg_batching = [], [], [], []\n",
    "for experiment in experiments:\n",
    "    latency_filename = 'latency_manual'+experiment\n",
    "    throughput_filename = 'throughput_manual'+experiment\n",
    "    cpu_utilization = 'cpu_manual'+experiment\n",
    "    \n",
    "    avg_latencies_batching.append(latency_p50(latency_filename))\n",
    "    p95_latencies_batching.append(latency_p95(latency_filename))\n",
    "    throughput_avg_batching.append(throughput(throughput_filename))\n",
    "    cpu_utilization_avg_batching.append(cpu_utilization(cpu_utilization))"
   ]
  },
  {
   "cell_type": "markdown",
   "id": "5c0b95f7",
   "metadata": {},
   "source": [
    "# Plotting p95 latencies"
   ]
  },
  {
   "cell_type": "code",
   "execution_count": null,
   "id": "ad7cee7b",
   "metadata": {},
   "outputs": [],
   "source": [
    "plot(experiments, p95_latencies_manual, p95_latencies_autoscaling, p95_latencies_batching, 'p95 latencies')"
   ]
  },
  {
   "cell_type": "markdown",
   "id": "e8fe947d",
   "metadata": {},
   "source": [
    "# Plotting p50 latencies"
   ]
  },
  {
   "cell_type": "code",
   "execution_count": null,
   "id": "4e7a2e02",
   "metadata": {},
   "outputs": [],
   "source": [
    "plot(experiments, avg_latencies_manual, avg_latencies_autoscaling, avg_latencies_batching, 'p50 latencies')"
   ]
  },
  {
   "cell_type": "markdown",
   "id": "616602cc",
   "metadata": {},
   "source": [
    "# Plotting cpu utilization"
   ]
  },
  {
   "cell_type": "code",
   "execution_count": null,
   "id": "d5ec0867",
   "metadata": {},
   "outputs": [],
   "source": [
    "plot(experiments, cpu_utilization_avg_manual, cpu_utilization_avg_autoscaling, cpu_utilization_avg_batching, 'CPU Utilization')"
   ]
  },
  {
   "cell_type": "markdown",
   "id": "09338ff5",
   "metadata": {},
   "source": [
    "# Plotting Throughput"
   ]
  },
  {
   "cell_type": "code",
   "execution_count": null,
   "id": "f8d74eb7",
   "metadata": {},
   "outputs": [],
   "source": [
    "plot(experiments, throughput_avg_manual, throughput_avg_autoscaling, throughput_avg_batching, 'Throughput')"
   ]
  }
 ],
 "metadata": {
  "kernelspec": {
   "display_name": "Python 3 (ipykernel)",
   "language": "python",
   "name": "python3"
  },
  "language_info": {
   "codemirror_mode": {
    "name": "ipython",
    "version": 3
   },
   "file_extension": ".py",
   "mimetype": "text/x-python",
   "name": "python",
   "nbconvert_exporter": "python",
   "pygments_lexer": "ipython3",
   "version": "3.10.9"
  }
 },
 "nbformat": 4,
 "nbformat_minor": 5
}
